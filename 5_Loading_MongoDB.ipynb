{
 "cells": [
  {
   "cell_type": "code",
   "execution_count": null,
   "id": "1574b3b1",
   "metadata": {},
   "outputs": [],
   "source": [
    "import pandas as pd\n",
    "from pymongo import MongoClient\n",
    "from pathlib import Path\n",
    "\n",
    "# =====================================\n",
    "# 1️⃣ Conexión con MongoDB\n",
    "# =====================================\n",
    "client = MongoClient(\"mongodb://localhost:27017/\")\n",
    "db = client[\"TurismoPeru_2025\"]\n",
    "collection = db[\"Visitantes\"]\n",
    "\n",
    "print(\"✅ Conexión establecida con MongoDB.\")\n",
    "\n",
    "# =====================================\n",
    "# 2️⃣ Leer los datos limpios del CSV\n",
    "# =====================================\n",
    "data_path = Path.cwd().parent / \"database\" / \"visitantes_clean.csv\"\n",
    "df = pd.read_csv(data_path)\n",
    "print(f\"✅ {len(df)} registros cargados desde el CSV limpio.\")\n",
    "\n",
    "# =====================================\n",
    "# 3️⃣ Insertar los datos en MongoDB\n",
    "# =====================================\n",
    "data = df.to_dict(orient=\"records\")\n",
    "collection.insert_many(data)\n",
    "print(\"📥 Datos insertados correctamente en la colección 'Visitantes'.\")\n",
    "\n",
    "# =====================================\n",
    "# 4️⃣ Consultas de verificación\n",
    "# =====================================\n",
    "print(\"\\n📊 Ejemplo de registros en MongoDB:\")\n",
    "for doc in collection.find().limit(5):\n",
    "    print(doc)\n",
    "\n",
    "print(\"\\n🔢 Total de documentos en la colección:\", collection.count_documents({}))"
   ]
  }
 ],
 "metadata": {
  "kernelspec": {
   "display_name": "myenv",
   "language": "python",
   "name": "python3"
  },
  "language_info": {
   "codemirror_mode": {
    "name": "ipython",
    "version": 3
   },
   "file_extension": ".py",
   "mimetype": "text/x-python",
   "name": "python",
   "nbconvert_exporter": "python",
   "pygments_lexer": "ipython3",
   "version": "3.13.7"
  }
 },
 "nbformat": 4,
 "nbformat_minor": 5
}
