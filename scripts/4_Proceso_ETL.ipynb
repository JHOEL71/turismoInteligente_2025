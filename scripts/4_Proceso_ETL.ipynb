{
 "cells": [
  {
   "cell_type": "code",
   "execution_count": 2,
   "id": "1d410129",
   "metadata": {},
   "outputs": [
    {
     "name": "stdout",
     "output_type": "stream",
     "text": [
      "✅ Datos cargados correctamente.\n",
      "Registros originales: 3000\n",
      "📛 Duplicados eliminados. Total registros: 3000\n",
      "✅ Archivo limpio exportado: c:\\Users\\JOEL-LLA\\documents\\turismoInteligente2025\\database\\visitantes_clean.csv\n"
     ]
    }
   ],
   "source": [
    "import pandas as pd\n",
    "from pathlib import Path\n",
    "\n",
    "# ==============================\n",
    "# 1️⃣ Definir rutas de archivos\n",
    "# ==============================\n",
    "data_path = Path.cwd().parent / \"data\"\n",
    "db_path = Path.cwd().parent / \"database\"\n",
    "db_path.mkdir(parents=True, exist_ok=True)\n",
    "\n",
    "archivo_entrada = data_path / \"visitantes.csv\"\n",
    "archivo_salida = db_path / \"visitantes_clean.csv\"\n",
    "\n",
    "# ==============================\n",
    "# 2️⃣ Cargar los datos originales\n",
    "# ==============================\n",
    "df = pd.read_csv(archivo_entrada)\n",
    "print(\"✅ Datos cargados correctamente.\")\n",
    "print(\"Registros originales:\", len(df))\n",
    "\n",
    "# ==============================\n",
    "# 3️⃣ Eliminar duplicados\n",
    "# ==============================\n",
    "df = df.drop_duplicates()\n",
    "print(\"📛 Duplicados eliminados. Total registros:\", len(df))\n",
    "\n",
    "# ==============================\n",
    "# 4️⃣ Rellenar valores nulos\n",
    "# ==============================\n",
    "df[\"destino\"] = df[\"destino\"].fillna(\"Sin destino\")\n",
    "df[\"medio_transporte\"] = df[\"medio_transporte\"].fillna(\"Desconocido\")\n",
    "\n",
    "# ==============================\n",
    "# 5️⃣ Formatear columnas de fecha\n",
    "# ==============================\n",
    "df[\"fecha_visita\"] = pd.to_datetime(df[\"fecha_visita\"], errors=\"coerce\")\n",
    "df = df.dropna(subset=[\"fecha_visita\"])  # eliminar si hay fechas inválidas\n",
    "\n",
    "# ==============================\n",
    "# 6️⃣ Validar tipos de datos\n",
    "# ==============================\n",
    "df[\"edad\"] = df[\"edad\"].astype(int)\n",
    "df[\"dias_estadia\"] = df[\"dias_estadia\"].astype(int)\n",
    "df[\"gasto_total\"] = df[\"gasto_total\"].astype(float)\n",
    "\n",
    "# ==============================\n",
    "# 7️⃣ Exportar datos limpios\n",
    "# ==============================\n",
    "df.to_csv(archivo_salida, index=False, encoding=\"utf-8\")\n",
    "print(\"✅ Archivo limpio exportado:\", archivo_salida)"
   ]
  }
 ],
 "metadata": {
  "kernelspec": {
   "display_name": "myenv",
   "language": "python",
   "name": "python3"
  },
  "language_info": {
   "codemirror_mode": {
    "name": "ipython",
    "version": 3
   },
   "file_extension": ".py",
   "mimetype": "text/x-python",
   "name": "python",
   "nbconvert_exporter": "python",
   "pygments_lexer": "ipython3",
   "version": "3.13.7"
  }
 },
 "nbformat": 4,
 "nbformat_minor": 5
}
