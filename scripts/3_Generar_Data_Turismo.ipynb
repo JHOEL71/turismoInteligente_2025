{
 "cells": [
  {
   "cell_type": "code",
   "execution_count": 1,
   "id": "225ae0c1",
   "metadata": {},
   "outputs": [
    {
     "name": "stdout",
     "output_type": "stream",
     "text": [
      "✅ Archivo 'visitantes.csv' generado correctamente con 3000 registros.\n"
     ]
    }
   ],
   "source": [
    "import pandas as pd\n",
    "import numpy as np\n",
    "from pathlib import Path\n",
    "import random\n",
    "from datetime import datetime, timedelta\n",
    "\n",
    "# ==============================\n",
    "# 1️⃣ Definir rutas y estructura\n",
    "# ==============================\n",
    "data_path = Path.cwd().parent / \"data\"\n",
    "data_path.mkdir(parents=True, exist_ok=True)\n",
    "archivo_csv = data_path / \"visitantes.csv\"\n",
    "\n",
    "# ==============================\n",
    "# 2️⃣ Listas base para generar datos\n",
    "# ==============================\n",
    "paises = [\"Perú\", \"Chile\", \"Ecuador\", \"Colombia\", \"Argentina\", \"Brasil\", \"EEUU\", \"España\", \"Francia\"]\n",
    "generos = [\"M\", \"F\"]\n",
    "destinos = [\"Machu Picchu\", \"Lago Titicaca\", \"Líneas de Nazca\", \"Chan Chan\", \"Amazonas\", \"Caral\", \"Cajamarca\"]\n",
    "regiones = [\"Cusco\", \"Puno\", \"Ica\", \"La Libertad\", \"Loreto\", \"Lima\", \"Cajamarca\"]\n",
    "transportes = [\"Avión\", \"Bus\", \"Auto\", \"Tren\", np.nan]\n",
    "\n",
    "# ==============================\n",
    "# 3️⃣ Generar 3000 registros aleatorios\n",
    "# ==============================\n",
    "num_registros = 3000\n",
    "data = []\n",
    "\n",
    "for i in range(1, num_registros + 1):\n",
    "    id_visitante = f\"V{i:04d}\"\n",
    "    pais = random.choice(paises)\n",
    "    edad = random.randint(18, 70)\n",
    "    genero = random.choice(generos)\n",
    "    destino = random.choice(destinos)\n",
    "    region = random.choice(regiones)\n",
    "    fecha_visita = datetime(2025, random.randint(1, 12), random.randint(1, 28))\n",
    "    dias_estadia = random.randint(1, 10)\n",
    "    gasto_total = random.randint(300, 5000)\n",
    "    medio_transporte = random.choice(transportes)\n",
    "    \n",
    "    # Introducimos algunos valores nulos o NA\n",
    "    if random.random() < 0.03:\n",
    "        destino = np.nan\n",
    "    if random.random() < 0.02:\n",
    "        medio_transporte = np.nan\n",
    "    \n",
    "    data.append([id_visitante, pais, edad, genero, destino, region, fecha_visita.strftime(\"%Y-%m-%d\"),\n",
    "                 dias_estadia, gasto_total, medio_transporte])\n",
    "\n",
    "# ==============================\n",
    "# 4️⃣ Crear DataFrame y exportar\n",
    "# ==============================\n",
    "df = pd.DataFrame(data, columns=[\n",
    "    \"id_visitante\", \"pais_origen\", \"edad\", \"genero\", \"destino\", \n",
    "    \"region\", \"fecha_visita\", \"dias_estadia\", \"gasto_total\", \"medio_transporte\"\n",
    "])\n",
    "\n",
    "df.to_csv(archivo_csv, index=False, encoding=\"utf-8\")\n",
    "print(\"✅ Archivo 'visitantes.csv' generado correctamente con 3000 registros.\")"
   ]
  }
 ],
 "metadata": {
  "kernelspec": {
   "display_name": "myenv",
   "language": "python",
   "name": "python3"
  },
  "language_info": {
   "codemirror_mode": {
    "name": "ipython",
    "version": 3
   },
   "file_extension": ".py",
   "mimetype": "text/x-python",
   "name": "python",
   "nbconvert_exporter": "python",
   "pygments_lexer": "ipython3",
   "version": "3.13.7"
  }
 },
 "nbformat": 4,
 "nbformat_minor": 5
}
